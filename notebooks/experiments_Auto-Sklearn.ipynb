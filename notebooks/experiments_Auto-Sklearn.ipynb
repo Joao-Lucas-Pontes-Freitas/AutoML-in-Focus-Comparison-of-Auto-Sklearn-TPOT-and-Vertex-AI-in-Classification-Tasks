{
 "cells": [
  {
   "cell_type": "markdown",
   "id": "74fce523",
   "metadata": {},
   "source": [
    "# 1. Environment Setup\n",
    "\n",
    "Imports grouped and loading of environment variables."
   ]
  },
  {
   "cell_type": "code",
   "execution_count": 1,
   "id": "79266e93",
   "metadata": {},
   "outputs": [
    {
     "name": "stderr",
     "output_type": "stream",
     "text": [
      "/home/joao/miniconda3/envs/tcc-env/lib/python3.9/site-packages/sklearn/utils/fixes.py:28: UserWarning: pkg_resources is deprecated as an API. See https://setuptools.pypa.io/en/latest/pkg_resources.html. The pkg_resources package is slated for removal as early as 2025-11-30. Refrain from using this package or pin to Setuptools<81.\n",
      "  from pkg_resources import parse_version  # type: ignore\n"
     ]
    }
   ],
   "source": [
    "import concurrent.futures\n",
    "import math\n",
    "import sys\n",
    "import time\n",
    "from datetime import date, datetime\n",
    "from pathlib import Path\n",
    "import shutil\n",
    "\n",
    "import matplotlib.pyplot as plt\n",
    "import numpy as np\n",
    "import pandas as pd\n",
    "from sklearn.preprocessing import LabelEncoder\n",
    "\n",
    "import autosklearn.classification\n",
    "import autosklearn.metrics\n",
    "\n",
    "PROJECT_ROOT = Path.cwd().resolve().parent\n",
    "if str(PROJECT_ROOT) not in sys.path:\n",
    "    sys.path.insert(0, str(PROJECT_ROOT))\n",
    "\n",
    "from src.metrics import collect_performance_over_time, evaluate_metrics\n"
   ]
  },
  {
   "cell_type": "markdown",
   "id": "496155cf",
   "metadata": {},
   "source": [
    "# 2. Data Loading and Preprocessing\n",
    "\n",
    "Loads the dataset (defined by variable), splits into train and test, and prepares temporary directories."
   ]
  },
  {
   "cell_type": "code",
   "execution_count": 2,
   "id": "a3704cf7",
   "metadata": {},
   "outputs": [],
   "source": [
    "import numpy as np\n",
    "from sklearn.feature_extraction.text import TfidfVectorizer\n",
    "from scipy import sparse as sp\n",
    "import pandas as pd\n",
    "\n",
    "def preprocess_text_data(X_train, X_test, text_cols=None):\n",
    "    \"\"\"\n",
    "    Transforms ALL text columns into TF-IDF vectors and concatenates them (with numeric columns passed through).\n",
    "    If text_cols=None, automatically detects text columns.\n",
    "    Returns: X_train_vec, X_test_vec, info (dict with vectorizers, text_cols, numeric_cols).\n",
    "    \"\"\"\n",
    "\n",
    "    # 1) detect text columns if not passed\n",
    "    if text_cols is None:\n",
    "        text_cols = []\n",
    "        for c in X_train.columns:\n",
    "            s = X_train[c]\n",
    "            if pd.api.types.is_string_dtype(s) or s.dtype == object:\n",
    "                text_cols.append(c)\n",
    "            elif pd.api.types.is_categorical_dtype(s):\n",
    "                # string categories count as text\n",
    "                try:\n",
    "                    if pd.api.types.is_object_dtype(s.cat.categories.dtype) or pd.api.types.is_string_dtype(s.cat.categories.dtype):\n",
    "                        text_cols.append(c)\n",
    "                except Exception:\n",
    "                    pass\n",
    "\n",
    "    # 2) vectorize each text column and stack\n",
    "    vects_train = []\n",
    "    vects_test  = []\n",
    "    vectorizers = {}\n",
    "    for col in text_cols:\n",
    "        vec = TfidfVectorizer(\n",
    "            strip_accents='unicode',\n",
    "            lowercase=True,\n",
    "            stop_words='english',\n",
    "            token_pattern=r'(?u)\\b\\w\\w+\\b',\n",
    "            ngram_range=(1, 2),\n",
    "            min_df=5,\n",
    "            max_df=0.95,\n",
    "            max_features=4000,\n",
    "            sublinear_tf=True,\n",
    "            dtype=np.float32\n",
    "        )\n",
    "        \n",
    "        Xtr_col = vec.fit_transform(X_train[col].astype(str).fillna(''))\n",
    "        Xte_col = vec.transform(X_test[col].astype(str).fillna(''))\n",
    "        vects_train.append(Xtr_col)\n",
    "        vects_test.append(Xte_col)\n",
    "        vectorizers[col] = vec\n",
    "\n",
    "    # 3) pass numeric columns (if any)\n",
    "    numeric_cols = [c for c in X_train.columns if c not in text_cols and pd.api.types.is_numeric_dtype(X_train[c])]\n",
    "    if numeric_cols:\n",
    "        Xtr_num = sp.csr_matrix(np.asarray(X_train[numeric_cols].fillna(0.0)))\n",
    "        Xte_num = sp.csr_matrix(np.asarray(X_test[numeric_cols].fillna(0.0)))\n",
    "        vects_train.append(Xtr_num)\n",
    "        vects_test.append(Xte_num)\n",
    "\n",
    "    # 4) final hstack\n",
    "    X_train_vec = sp.hstack(vects_train).tocsr()\n",
    "    X_test_vec  = sp.hstack(vects_test).tocsr()\n",
    "\n",
    "    info = {\"vectorizers\": vectorizers, \"text_cols\": text_cols, \"numeric_cols\": numeric_cols}\n",
    "    return X_train_vec, X_test_vec, info"
   ]
  },
  {
   "cell_type": "code",
   "execution_count": 3,
   "id": "6bf0166e",
   "metadata": {},
   "outputs": [],
   "source": [
    "def load_dataset(caminho_treino, caminho_teste, target_column='target'):\n",
    "    X_train = pd.read_csv(caminho_treino)\n",
    "    X_test = pd.read_csv(caminho_teste)\n",
    "\n",
    "    y_train = X_train.pop(target_column)\n",
    "    y_test = X_test.pop(target_column)\n",
    "\n",
    "    if 'imdb' in caminho_treino.lower():\n",
    "        X_train, X_test, info = preprocess_text_data(X_train, X_test)\n",
    "\n",
    "    # Encode labels if they are categorical\n",
    "    if y_train.dtype == 'object' or y_test.dtype == 'object':\n",
    "        le = LabelEncoder()\n",
    "        y_train = le.fit_transform(y_train)\n",
    "        y_test = le.transform(y_test)\n",
    "\n",
    "    print(f\"Train path: {caminho_treino}, Test path: {caminho_teste}\")\n",
    "    print(f'Train shape: {X_train.shape}, Test shape: {X_test.shape}')\n",
    "    print(f\"Unique classes in y_test: {np.unique(y_test)}\")\n",
    "    \n",
    "    return X_train, X_test, y_train, y_test"
   ]
  },
  {
   "cell_type": "markdown",
   "id": "3f385756",
   "metadata": {},
   "source": [
    "# 3. AutoSklearn Configuration and Execution\n",
    "\n",
    "Utility functions to run AutoSklearn with or without ensemble and collect essential process information."
   ]
  },
  {
   "cell_type": "code",
   "execution_count": null,
   "id": "2a894083",
   "metadata": {},
   "outputs": [],
   "source": [
    "def run_autosklearn(with_ensemble: bool, tmp_dir: Path, X_train, y_train, random_state: int, time_limit_sec: int):\n",
    "    TIME_LIMIT_SEC = time_limit_sec\n",
    "    METRIC_SK = autosklearn.metrics.f1_weighted\n",
    "    automl = autosklearn.classification.AutoSklearnClassifier(\n",
    "        time_left_for_this_task=TIME_LIMIT_SEC,\n",
    "        per_run_time_limit=int(TIME_LIMIT_SEC / 10),\n",
    "        tmp_folder=str(tmp_dir),\n",
    "        seed=random_state,\n",
    "        metric=METRIC_SK,\n",
    "        ensemble_kwargs={'ensemble_size': 10 if with_ensemble else 1},\n",
    "        memory_limit=1024*5,  # 5GB memory \n",
    "        delete_tmp_folder_after_terminate=True,\n",
    "    )\n",
    "    start = time.time()\n",
    "    print(f'Starting AutoSklearn (ensemble={with_ensemble})... time limit: {TIME_LIMIT_SEC}s\\n')\n",
    "    automl.fit(X_train, y_train)\n",
    "    return automl, time.time() - start\n",
    "\n",
    "def extract_leaderboard(automl):\n",
    "    lb = automl.leaderboard(detailed=True, ensemble_only=True).sort_values('ensemble_weight', ascending=False)\n",
    "    return lb.reset_index(drop=True)\n",
    "\n",
    "def _sanitize_key(k: str) -> str:\n",
    "    s = str(k)\n",
    "    s = s.replace('.', '\\uFF0E')\n",
    "    if s.startswith('$'):\n",
    "        s = '\\uFF04' + s[1:]\n",
    "    return s\n",
    "\n",
    "def _ints_dict_to_list(d: dict):\n",
    "    # If keys are 0..N-1, convert to list\n",
    "    try:\n",
    "        keys = list(d.keys())\n",
    "        if all(isinstance(k, int) for k in keys):\n",
    "            n = max(keys) + 1 if keys else 0\n",
    "            if set(keys) == set(range(n)):\n",
    "                out = [None] * n\n",
    "                for k, v in d.items():\n",
    "                    out[k] = v\n",
    "                return out\n",
    "    except Exception:\n",
    "        pass\n",
    "    return None  # keep dict\n",
    "\n",
    "def _to_primitive(x):\n",
    "    # BSON compatible values\n",
    "    if x is None:\n",
    "        return None\n",
    "    if isinstance(x, (str, bool, int, float)):\n",
    "        # handle NaN/Inf that BSON doesn't accept\n",
    "        if isinstance(x, float) and (math.isnan(x) or math.isinf(x)):\n",
    "            return None\n",
    "        return x\n",
    "    if isinstance(x, (np.bool_,)):\n",
    "        return bool(x)\n",
    "    if isinstance(x, (np.integer,)):\n",
    "        return int(x)\n",
    "    if isinstance(x, (np.floating,)):\n",
    "        v = float(x)\n",
    "        return None if (math.isnan(v) or math.isinf(v)) else v\n",
    "    if isinstance(x, (datetime, pd.Timestamp, date)):\n",
    "        return pd.Timestamp(x).to_pydatetime()\n",
    "    if isinstance(x, (list, tuple, set)):\n",
    "        return [_to_bson_safe(v) for v in x]\n",
    "    if isinstance(x, np.ndarray):\n",
    "        return [_to_bson_safe(v) for v in x.tolist()]\n",
    "    if isinstance(x, dict):\n",
    "        # try optimization for sequential integer dict\n",
    "        as_list = _ints_dict_to_list(x)\n",
    "        if as_list is not None:\n",
    "            return [_to_bson_safe(v) for v in as_list]\n",
    "        # otherwise, keep dict but with safe string keys\n",
    "        return {_sanitize_key(k): _to_bson_safe(v) for k, v in x.items()}\n",
    "    # fallback: string\n",
    "    return str(x)\n",
    "\n",
    "def _to_bson_safe(x):\n",
    "    v = _to_primitive(x)\n",
    "    # If still dict, ensure safe keys\n",
    "    if isinstance(v, dict):\n",
    "        return {_sanitize_key(k): _to_bson_safe(v2) for k, v2 in v.items()}\n",
    "    return v\n",
    "# --------------------------------\n",
    "\n",
    "def serialize_models(automl, leaderboard_df):\n",
    "    models_serialized = []\n",
    "    for (_, row), (weight, pipeline) in zip(\n",
    "        leaderboard_df.iterrows(),\n",
    "        automl.get_models_with_weights()\n",
    "    ):\n",
    "        steps_info = {}\n",
    "        for name, step in pipeline.steps:\n",
    "            estimator = step.choice if hasattr(step, 'choice') else step\n",
    "            try:\n",
    "                raw_params = estimator.get_params(deep=False)\n",
    "            except AttributeError:\n",
    "                raw_params = {}\n",
    "            steps_info[name] = {\n",
    "                'algorithm': estimator.__class__.__name__,\n",
    "                'parameters': _to_bson_safe(raw_params),\n",
    "            }\n",
    "\n",
    "        models_serialized.append({\n",
    "            'weight': float(weight),\n",
    "            'cost':   float(row['cost']),\n",
    "            'classifier':            _to_bson_safe(steps_info.get('classifier', {})),\n",
    "            'data_preprocessor':     _to_bson_safe(steps_info.get('data_preprocessor', {})),\n",
    "            'feature_preprocessor':  _to_bson_safe(steps_info.get('feature_preprocessor', {})),\n",
    "        })\n",
    "\n",
    "    return {\n",
    "        'total_models': len(models_serialized),\n",
    "        'models':       models_serialized\n",
    "    }"
   ]
  },
  {
   "cell_type": "markdown",
   "id": "59fefa8d",
   "metadata": {},
   "source": [
    "# 4. Results Saving\n",
    "\n",
    "Builds the final JSON document."
   ]
  },
  {
   "cell_type": "code",
   "execution_count": 5,
   "id": "6f6f5291",
   "metadata": {},
   "outputs": [],
   "source": [
    "def build_document(automl, leaderboard_df, with_ensemble: bool, X_test, y_test, dataset_name: str, time_spent: float, data_folder: str):\n",
    "    metrics_obj = evaluate_metrics(automl, X_test, y_test)\n",
    "    model_obj = serialize_models(automl, leaderboard_df)\n",
    "    perf_time = collect_performance_over_time(automl)\n",
    "\n",
    "    noise = {\n",
    "        'data': 'all' in data_folder.lower() or 'feature' in data_folder.lower(),\n",
    "        'label': 'all' in data_folder.lower() or 'label' in data_folder.lower()\n",
    "    }\n",
    "    \n",
    "    return {\n",
    "        'timeStamp': datetime.now().astimezone().isoformat(),\n",
    "        'time_spent': time_spent,\n",
    "        'dataset': dataset_name,\n",
    "        'automl': 'autosklearn',\n",
    "        'with_ensemble': with_ensemble,\n",
    "        'metrics': metrics_obj,\n",
    "        'model': {\n",
    "            **model_obj,\n",
    "            'graphic': {\n",
    "                'performance_over_time': perf_time,\n",
    "                'learning_curve': None\n",
    "            }\n",
    "        },\n",
    "        'noise': noise\n",
    "    }"
   ]
  },
  {
   "cell_type": "markdown",
   "id": "9fdff30d",
   "metadata": {},
   "source": [
    "# Execution\n",
    "\n",
    "Runs with and without ensemble, builds documents."
   ]
  },
  {
   "cell_type": "code",
   "execution_count": null,
   "id": "15cf2713",
   "metadata": {},
   "outputs": [],
   "source": [
    "def workflow(with_ens: bool, label: str, tmp_root, X_train, y_train, random_state: int, time_limit_sec: int):\n",
    "    folder = tmp_root / label\n",
    "    automl, time_spent = run_autosklearn(with_ens, folder, X_train, y_train, random_state, time_limit_sec)\n",
    "    return label, {'doc': None,  'automl': automl, 'leaderboard': None, 'time_spent': time_spent}\n",
    "\n",
    "def run_experiment(tmp_root: Path, X_train, y_train: str, random_state: int, time_limit_sec: int):\n",
    "    start = time.time()\n",
    "    RESULTS = {}\n",
    "\n",
    "    with concurrent.futures.ProcessPoolExecutor(max_workers=2) as pool:\n",
    "        futures = [\n",
    "            pool.submit(workflow, True , 'with_ensemble', tmp_root, X_train, y_train, random_state, time_limit_sec),\n",
    "            pool.submit(workflow, False, 'without_ensemble', tmp_root, X_train, y_train, random_state, time_limit_sec)\n",
    "        ]\n",
    "        for fut in concurrent.futures.as_completed(futures):\n",
    "            label, data = fut.result()\n",
    "            RESULTS[label] = data\n",
    "\n",
    "    print(f'Total time: {time.time()-start:.1f}s')\n",
    "    return RESULTS"
   ]
  },
  {
   "cell_type": "code",
   "execution_count": 7,
   "id": "3f6187d0",
   "metadata": {},
   "outputs": [],
   "source": [
    "def get_results(RESULTS, X_test, y_test, DATASET_NAME, data_folder: str):\n",
    "    for label, result in RESULTS.items():\n",
    "        result['leaderboard'] = extract_leaderboard(result['automl'])\n",
    "        result['doc']    = build_document(result['automl'], result['leaderboard'], label == 'with_ensemble', X_test, y_test, DATASET_NAME, result['time_spent'], data_folder)\n",
    "    return RESULTS"
   ]
  },
  {
   "cell_type": "markdown",
   "id": "03d4a87d",
   "metadata": {},
   "source": [
    "# Visualizations"
   ]
  },
  {
   "cell_type": "code",
   "execution_count": 8,
   "id": "ffbb3f6c",
   "metadata": {},
   "outputs": [],
   "source": [
    "def plots(results):# Comparative plot - all curves in a single graph\n",
    "    plt.figure(figsize=(12, 8))\n",
    "\n",
    "    colors = ['#1f77b4', '#ff7f0e']  # Different colors for each line\n",
    "    line_styles = ['-', '--']  # Different line styles\n",
    "    markers = ['o', 's']  # Different markers\n",
    "\n",
    "    for idx, (label, item) in enumerate(results.items()):\n",
    "        perf = item['doc']['model']['graphic']['performance_over_time']\n",
    "        \n",
    "        # Convert timestamps to numeric format (seconds since start)\n",
    "        timestamps = pd.to_datetime(perf['Timestamp'], format='ISO8601')\n",
    "        time_seconds = (timestamps - timestamps[0]).total_seconds()\n",
    "        \n",
    "        # Plot ensemble optimization score\n",
    "        if 'ensemble_optimization_score' in perf:\n",
    "            ensemble_scores = np.array(perf['ensemble_optimization_score'])\n",
    "            valid_mask = ~np.isnan(ensemble_scores)\n",
    "            \n",
    "            # Add small vertical offset to separate lines\n",
    "            offset = idx * 0.001\n",
    "            \n",
    "            plt.plot(\n",
    "                time_seconds[valid_mask], \n",
    "                ensemble_scores[valid_mask] + offset, \n",
    "                label=f'Ensemble - {label.replace(\"_\", \" \").title()}',\n",
    "                linewidth=2.5,\n",
    "                marker=markers[idx],\n",
    "                markersize=6,\n",
    "                color=colors[idx],\n",
    "                linestyle=line_styles[idx],\n",
    "                alpha=0.8,\n",
    "                markeredgecolor='white',\n",
    "                markeredgewidth=1\n",
    "            )\n",
    "\n",
    "    plt.title('Performance Comparison - AutoSklearn', fontsize=14, fontweight='bold')\n",
    "    plt.xlabel('Time (s)', fontsize=12)\n",
    "    plt.ylabel('F1 Weighted Score', fontsize=12)\n",
    "    plt.legend(fontsize=10, loc='lower right')\n",
    "    plt.grid(True, alpha=0.3)\n",
    "    plt.ylim(0.5, 1.2)\n",
    "    plt.tight_layout()\n",
    "    plt.show()"
   ]
  },
  {
   "cell_type": "code",
   "execution_count": 9,
   "id": "0dce8f87",
   "metadata": {},
   "outputs": [],
   "source": [
    "DATASET_NAME = 'iris'\n",
    "DATA_FOLDER = PROJECT_ROOT / 'data' / 'noise' / 'all'\n",
    "TIME_LIMIT_SEC = 60 * 1 # 5 minutes\n",
    "RANDOM_STATE = 1"
   ]
  },
  {
   "cell_type": "code",
   "execution_count": 10,
   "id": "a2621f17",
   "metadata": {},
   "outputs": [
    {
     "name": "stdout",
     "output_type": "stream",
     "text": [
      "Train path: /home/joao/Documentos/AutoML-in-Focus-Comparison-of-Auto-Sklearn-TPOT-and-Vertex-AI-in-Classification-Tasks/data/noise/all/iris_train.csv, Test path: /home/joao/Documentos/AutoML-in-Focus-Comparison-of-Auto-Sklearn-TPOT-and-Vertex-AI-in-Classification-Tasks/data/noise/all/iris_test.csv\n",
      "Train shape: (112, 4), Test shape: (38, 4)\n",
      "Unique classes in y_test: [0 1 2]\n"
     ]
    }
   ],
   "source": [
    "caminho_treino = str(DATA_FOLDER / DATASET_NAME)+ '_train.csv'\n",
    "caminho_teste  = str(DATA_FOLDER / DATASET_NAME) + '_test.csv'\n",
    "\n",
    "X_train, X_test, y_train, y_test = load_dataset(caminho_treino, caminho_teste, target_column='target')\n",
    "tmp_root = PROJECT_ROOT / 'results' / 'tmp' / 'autosklearn' / DATASET_NAME\n",
    "if tmp_root.exists():\n",
    "    shutil.rmtree(tmp_root)"
   ]
  },
  {
   "cell_type": "code",
   "execution_count": 11,
   "id": "342289b5",
   "metadata": {},
   "outputs": [
    {
     "name": "stdout",
     "output_type": "stream",
     "text": [
      "Starting AutoSklearn (ensemble=True)... time limit: 60s\n",
      "Starting AutoSklearn (ensemble=False)... time limit: 60s\n",
      "\n",
      "\n",
      "Starting AutoSklearn (ensemble=False)... time limit: 60s\n",
      "\n",
      "\n"
     ]
    },
    {
     "name": "stdout",
     "output_type": "stream",
     "text": [
      "Total time: 55.3s\n"
     ]
    }
   ],
   "source": [
    "RESULTS = run_experiment(tmp_root, X_train, y_train, RANDOM_STATE, TIME_LIMIT_SEC)"
   ]
  },
  {
   "cell_type": "code",
   "execution_count": 12,
   "id": "be8835f8",
   "metadata": {},
   "outputs": [
    {
     "name": "stderr",
     "output_type": "stream",
     "text": [
      "/home/joao/miniconda3/envs/tcc-env/lib/python3.9/site-packages/autosklearn/automl.py:1860: FutureWarning: DataFrame.fillna with 'method' is deprecated and will raise in a future version. Use obj.ffill() or obj.bfill() instead.\n",
      "  pd.merge(\n",
      "/home/joao/miniconda3/envs/tcc-env/lib/python3.9/site-packages/autosklearn/automl.py:1860: FutureWarning: DataFrame.fillna with 'method' is deprecated and will raise in a future version. Use obj.ffill() or obj.bfill() instead.\n",
      "  pd.merge(\n"
     ]
    }
   ],
   "source": [
    "RESULTS = get_results(RESULTS, X_test, y_test, DATASET_NAME, str(DATA_FOLDER))"
   ]
  },
  {
   "cell_type": "code",
   "execution_count": 13,
   "id": "7844eb9e",
   "metadata": {},
   "outputs": [
    {
     "data": {
      "image/png": "[encoded data removed]",
      "text/plain": [
       "<Figure size 1200x800 with 1 Axes>"
      ]
     },
     "metadata": {},
     "output_type": "display_data"
    }
   ],
   "source": [
    "plots(RESULTS)"
   ]
  }
 ],
 "metadata": {
  "kernelspec": {
   "display_name": "tcc-env",
   "language": "python",
   "name": "python3"
  },
  "language_info": {
   "codemirror_mode": {
    "name": "ipython",
    "version": 3
   },
   "file_extension": ".py",
   "mimetype": "text/x-python",
   "name": "python",
   "nbconvert_exporter": "python",
   "pygments_lexer": "ipython3",
   "version": "3.9.23"
  }
 },
 "nbformat": 4,
 "nbformat_minor": 5
}
