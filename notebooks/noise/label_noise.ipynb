{
 "cells": [
  {
   "cell_type": "markdown",
   "id": "d46bc6d2",
   "metadata": {},
   "source": [
    "# Label Noise"
   ]
  },
  {
   "cell_type": "code",
   "execution_count": 1,
   "id": "333a069a",
   "metadata": {},
   "outputs": [],
   "source": [
    "import sys\n",
    "DIR_ROOT = '../../'\n",
    "sys.path.append(DIR_ROOT)\n",
    "from src.noise import *\n",
    "import pandas as pd\n",
    "\n",
    "# Seleciona o dataset\n",
    "DATASET_NAME = 'iris'\n",
    "df = pd.read_csv(f'{DIR_ROOT}data/{DATASET_NAME}_train.csv')\n",
    "\n",
    "# Copia os dados originais e separa\n",
    "X_train = df.drop(columns=['target'])\n",
    "y_train = df['target'].to_frame()"
   ]
  },
  {
   "cell_type": "markdown",
   "id": "4378743d",
   "metadata": {},
   "source": [
    "## 10% Label Noise"
   ]
  },
  {
   "cell_type": "code",
   "execution_count": 2,
   "id": "5aa1471c",
   "metadata": {},
   "outputs": [
    {
     "name": "stdout",
     "output_type": "stream",
     "text": [
      "=== AUDIT: label_noise ===\n",
      "p (fraction per class): 0.1, random_state: 42\n",
      "Flips per class:\n",
      "  - 2: 4\n",
      "  - 0: 4\n",
      "  - 1: 4\n",
      "Total labels changed: 12\n"
     ]
    },
    {
     "data": {
      "text/html": [
       "<div>\n",
       "<style scoped>\n",
       "    .dataframe tbody tr th:only-of-type {\n",
       "        vertical-align: middle;\n",
       "    }\n",
       "\n",
       "    .dataframe tbody tr th {\n",
       "        vertical-align: top;\n",
       "    }\n",
       "\n",
       "    .dataframe thead th {\n",
       "        text-align: right;\n",
       "    }\n",
       "</style>\n",
       "<table border=\"1\" class=\"dataframe\">\n",
       "  <thead>\n",
       "    <tr style=\"text-align: right;\">\n",
       "      <th></th>\n",
       "      <th>orig</th>\n",
       "      <th>noisy</th>\n",
       "    </tr>\n",
       "  </thead>\n",
       "  <tbody>\n",
       "    <tr>\n",
       "      <th>5</th>\n",
       "      <td>2</td>\n",
       "      <td>0</td>\n",
       "    </tr>\n",
       "    <tr>\n",
       "      <th>20</th>\n",
       "      <td>1</td>\n",
       "      <td>2</td>\n",
       "    </tr>\n",
       "    <tr>\n",
       "      <th>41</th>\n",
       "      <td>2</td>\n",
       "      <td>1</td>\n",
       "    </tr>\n",
       "    <tr>\n",
       "      <th>67</th>\n",
       "      <td>2</td>\n",
       "      <td>0</td>\n",
       "    </tr>\n",
       "    <tr>\n",
       "      <th>74</th>\n",
       "      <td>1</td>\n",
       "      <td>2</td>\n",
       "    </tr>\n",
       "    <tr>\n",
       "      <th>78</th>\n",
       "      <td>0</td>\n",
       "      <td>1</td>\n",
       "    </tr>\n",
       "    <tr>\n",
       "      <th>82</th>\n",
       "      <td>1</td>\n",
       "      <td>2</td>\n",
       "    </tr>\n",
       "    <tr>\n",
       "      <th>83</th>\n",
       "      <td>0</td>\n",
       "      <td>2</td>\n",
       "    </tr>\n",
       "    <tr>\n",
       "      <th>84</th>\n",
       "      <td>0</td>\n",
       "      <td>1</td>\n",
       "    </tr>\n",
       "    <tr>\n",
       "      <th>87</th>\n",
       "      <td>2</td>\n",
       "      <td>1</td>\n",
       "    </tr>\n",
       "    <tr>\n",
       "      <th>99</th>\n",
       "      <td>1</td>\n",
       "      <td>2</td>\n",
       "    </tr>\n",
       "    <tr>\n",
       "      <th>102</th>\n",
       "      <td>0</td>\n",
       "      <td>2</td>\n",
       "    </tr>\n",
       "  </tbody>\n",
       "</table>\n",
       "</div>"
      ],
      "text/plain": [
       "     orig  noisy\n",
       "5       2      0\n",
       "20      1      2\n",
       "41      2      1\n",
       "67      2      0\n",
       "74      1      2\n",
       "78      0      1\n",
       "82      1      2\n",
       "83      0      2\n",
       "84      0      1\n",
       "87      2      1\n",
       "99      1      2\n",
       "102     0      2"
      ]
     },
     "execution_count": 2,
     "metadata": {},
     "output_type": "execute_result"
    }
   ],
   "source": [
    "y_train_noisy = label_noise(y_train, p=0.1)\n",
    "df_compare = pd.DataFrame({'orig': y_train.iloc[:,0], 'noisy': y_train_noisy.iloc[:,0]})\n",
    "df_compare[df_compare['orig'] != df_compare['noisy']]\n",
    "df_compare = df_compare[df_compare['orig'] != df_compare['noisy']]\n",
    "df_compare"
   ]
  },
  {
   "cell_type": "markdown",
   "id": "76cf8901",
   "metadata": {},
   "source": [
    "## Saving the Results"
   ]
  },
  {
   "cell_type": "code",
   "execution_count": null,
   "id": "d33c8bf8",
   "metadata": {},
   "outputs": [],
   "source": [
    "# Gera o novo df com a combinação dos ruídos e salva na pasta certa.\n",
    "new_df = X_train.copy()\n",
    "new_df['target'] = y_train_noisy\n",
    "\n",
    "new_df.to_csv(f'{DIR_ROOT}data/noise/label/{DATASET_NAME}_train.csv', index=False)\n",
    "\n",
    "# Mantém os dados de teste intactos e copia para a pasta nova\n",
    "df_test = pd.read_csv(f'{DIR_ROOT}data/{DATASET_NAME}_test.csv')\n",
    "df_test.to_csv(f'{DIR_ROOT}data/noise/label/{DATASET_NAME}_test.csv', index=False)"
   ]
  }
 ],
 "metadata": {
  "kernelspec": {
   "display_name": "tpotenv",
   "language": "python",
   "name": "python3"
  },
  "language_info": {
   "codemirror_mode": {
    "name": "ipython",
    "version": 3
   },
   "file_extension": ".py",
   "mimetype": "text/x-python",
   "name": "python",
   "nbconvert_exporter": "python",
   "pygments_lexer": "ipython3",
   "version": "3.10.18"
  }
 },
 "nbformat": 4,
 "nbformat_minor": 5
}
