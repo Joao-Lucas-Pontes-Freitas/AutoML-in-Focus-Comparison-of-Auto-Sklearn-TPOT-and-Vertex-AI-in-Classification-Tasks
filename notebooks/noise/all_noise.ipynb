{
 "cells": [
  {
   "cell_type": "code",
   "execution_count": 9,
   "id": "333a069a",
   "metadata": {},
   "outputs": [],
   "source": [
    "import sys\n",
    "DIR_ROOT = '../../'\n",
    "sys.path.append(DIR_ROOT)\n",
    "from src.noise import *\n",
    "import pandas as pd\n",
    "\n",
    "# Seleciona o dataset\n",
    "DATASET_NAME = 'iris'\n",
    "df = pd.read_csv(f'{DIR_ROOT}data/{DATASET_NAME}_train.csv')\n",
    "\n",
    "# Copia os dados originais e separa\n",
    "X_train = df.drop(columns=['target'])\n",
    "y_train = df['target'].to_frame()"
   ]
  },
  {
   "cell_type": "code",
   "execution_count": 10,
   "id": "5aa1471c",
   "metadata": {},
   "outputs": [
    {
     "name": "stdout",
     "output_type": "stream",
     "text": [
      "=== AUDITORIA: label_noise ===\n",
      "p (fração por classe): 0.05, random_state: 42\n",
      "Flips por classe:\n",
      "  - 2: 2\n",
      "  - 0: 2\n",
      "  - 1: 2\n",
      "Total de rótulos alterados: 6\n"
     ]
    },
    {
     "data": {
      "text/html": [
       "<div>\n",
       "<style scoped>\n",
       "    .dataframe tbody tr th:only-of-type {\n",
       "        vertical-align: middle;\n",
       "    }\n",
       "\n",
       "    .dataframe tbody tr th {\n",
       "        vertical-align: top;\n",
       "    }\n",
       "\n",
       "    .dataframe thead th {\n",
       "        text-align: right;\n",
       "    }\n",
       "</style>\n",
       "<table border=\"1\" class=\"dataframe\">\n",
       "  <thead>\n",
       "    <tr style=\"text-align: right;\">\n",
       "      <th></th>\n",
       "      <th>orig</th>\n",
       "      <th>noisy</th>\n",
       "    </tr>\n",
       "  </thead>\n",
       "  <tbody>\n",
       "    <tr>\n",
       "      <th>5</th>\n",
       "      <td>2</td>\n",
       "      <td>0</td>\n",
       "    </tr>\n",
       "    <tr>\n",
       "      <th>14</th>\n",
       "      <td>0</td>\n",
       "      <td>2</td>\n",
       "    </tr>\n",
       "    <tr>\n",
       "      <th>63</th>\n",
       "      <td>1</td>\n",
       "      <td>0</td>\n",
       "    </tr>\n",
       "    <tr>\n",
       "      <th>88</th>\n",
       "      <td>2</td>\n",
       "      <td>0</td>\n",
       "    </tr>\n",
       "    <tr>\n",
       "      <th>93</th>\n",
       "      <td>0</td>\n",
       "      <td>2</td>\n",
       "    </tr>\n",
       "    <tr>\n",
       "      <th>111</th>\n",
       "      <td>1</td>\n",
       "      <td>0</td>\n",
       "    </tr>\n",
       "  </tbody>\n",
       "</table>\n",
       "</div>"
      ],
      "text/plain": [
       "     orig  noisy\n",
       "5       2      0\n",
       "14      0      2\n",
       "63      1      0\n",
       "88      2      0\n",
       "93      0      2\n",
       "111     1      0"
      ]
     },
     "execution_count": 10,
     "metadata": {},
     "output_type": "execute_result"
    }
   ],
   "source": [
    "# Aplica label noise e mostra um df das diferenças. Caso padrão, p = 10%\n",
    "y_train_noisy = label_noise(y_train, p=0.05)\n",
    "df_comparacao = pd.DataFrame({'orig': y_train.iloc[:,0], 'noisy': y_train_noisy.iloc[:,0]})\n",
    "df_comparacao[df_comparacao['orig'] != df_comparacao['noisy']]\n",
    "df_comparacao = df_comparacao[df_comparacao['orig'] != df_comparacao['noisy']]\n",
    "df_comparacao"
   ]
  },
  {
   "cell_type": "code",
   "execution_count": 11,
   "id": "117dca91",
   "metadata": {},
   "outputs": [
    {
     "name": "stdout",
     "output_type": "stream",
     "text": [
      "=== AUDITORIA: data_noise_tabular ===\n",
      "p: 0.05, random_state: 42\n",
      "Num colunas numéricas: 4 | sorteadas por instância: 1\n",
      "Num colunas categóricas: 0 | sorteadas por instância: 0\n",
      "Instâncias alteradas por classe:\n",
      "  - 2: 2\n",
      "  - 0: 2\n",
      "  - 1: 2\n"
     ]
    }
   ],
   "source": [
    "# Aplica data noise de acordo com o tipo de dataset e mostra um df das diferenças. Nesse caso, como é all: p = 5%\n",
    "\n",
    "# colunas_normalizadas = normalize_cols(X_train.columns.tolist())\n",
    "# X_train.columns = colunas_normalizadas\n",
    "\n",
    "# colunas_categoricas = ['Marital Status', 'Application mode', 'Course', 'Daytime/evening attendance', 'Previous qualification', 'Nacionality', 'Mother\\'s qualification', 'Father\\'s qualification', 'Mother\\'s occupation', 'Father\\'s occupation', 'Displaced', 'Educational special needs', 'Debtor', 'Tuition fees up to date', 'Gender', 'Scholarship holder', 'International']\n",
    "\n",
    "# colunas_categoricas = normalize_cols(colunas_categoricas)\n",
    "\n",
    "colunas_categoricas = []\n",
    "\n",
    "colunas_numericas = X_train.columns.difference(colunas_categoricas).tolist()\n",
    "\n",
    "X_train_noisy = data_noise_tabular(X_train, y_train, numerical_columns=colunas_numericas, categorical_columns=colunas_categoricas, p=0.05)\n",
    "\n",
    "# X_train_noisy = data_noise_images(X_train, y_train, DATASET_NAME, p=0.05)\n",
    "\n",
    "# df_compara_data = X_train - X_train_noisy\n",
    "# df_compara_data = df_compara_data[(df_compara_data != 0).any(axis=1)]\n",
    "# df_compara_data\n",
    "\n",
    "# X_train_noisy = data_noise_text(X_train, y_train, col_name='review', p=0.05)\n",
    "# df['review_noisy'] = X_train_noisy['review']\n",
    "# df_compara_data = df[df['review'] != df['review_noisy']]\n",
    "# df_compara_data[['review', 'review_noisy']]\n",
    "# df_compara_data"
   ]
  },
  {
   "cell_type": "code",
   "execution_count": 12,
   "id": "d33c8bf8",
   "metadata": {},
   "outputs": [],
   "source": [
    "# Gera o novo df com a combinação dos ruídos e salva na pasta certa.\n",
    "new_df = X_train_noisy.copy()\n",
    "new_df['target'] = y_train_noisy\n",
    "\n",
    "new_df.to_csv(f'{DIR_ROOT}data/noise/all/{DATASET_NAME}_train.csv', index=False)\n",
    "\n",
    "# Mantém os dados de teste intactos e copia para a pasta nova\n",
    "df_test = pd.read_csv(f'{DIR_ROOT}data/{DATASET_NAME}_test.csv')\n",
    "df_test.to_csv(f'{DIR_ROOT}data/noise/all/{DATASET_NAME}_test.csv', index=False)"
   ]
  }
 ],
 "metadata": {
  "kernelspec": {
   "display_name": "tpotenv",
   "language": "python",
   "name": "python3"
  },
  "language_info": {
   "codemirror_mode": {
    "name": "ipython",
    "version": 3
   },
   "file_extension": ".py",
   "mimetype": "text/x-python",
   "name": "python",
   "nbconvert_exporter": "python",
   "pygments_lexer": "ipython3",
   "version": "3.10.18"
  }
 },
 "nbformat": 4,
 "nbformat_minor": 5
}
